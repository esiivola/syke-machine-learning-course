{
 "cells": [
  {
   "cell_type": "markdown",
   "metadata": {},
   "source": [
    "\n",
    "# Lesson 5: Your own ML project\n",
    "\n",
    "Create your own ML project! \n",
    "Here are the steps:\n",
    "-\tThink of a research question you want to explore. It can be a simple one, like a clustering, classification or regression task.\n",
    "-\tAcquire the data. You can use your own data sets, or any data set that is available from SYKE’s API’s or for example here: https://www.avoindata.fi/en. Don’t use the same data sets we have used on the course.\n",
    "-\tPreprocess the data, remembering your research question while doing so.\n",
    "-\tRun the selected ML algorithm and evaluate its results (select its parameters and the evaluation metric according to your research question).\n",
    "-\tDocument your process, decisions and their justifications, and your results!\n",
    "-   Use jupyter notebook (just like in the lectures) to present your approach and prepare to share it with everyone\n",
    "-   Good luck!\n"
   ]
  },
  {
   "cell_type": "code",
   "execution_count": null,
   "metadata": {},
   "outputs": [],
   "source": []
  }
 ],
 "metadata": {
  "kernelspec": {
   "display_name": "Python 3",
   "language": "python",
   "name": "python3"
  },
  "language_info": {
   "codemirror_mode": {
    "name": "ipython",
    "version": 3
   },
   "file_extension": ".py",
   "mimetype": "text/x-python",
   "name": "python",
   "nbconvert_exporter": "python",
   "pygments_lexer": "ipython3",
   "version": "3.7.9"
  }
 },
 "nbformat": 4,
 "nbformat_minor": 4
}
